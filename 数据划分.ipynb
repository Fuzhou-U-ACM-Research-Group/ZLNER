{
 "cells": [
  {
   "cell_type": "code",
   "execution_count": 7,
   "metadata": {},
   "outputs": [],
   "source": [
    "# 随机划分json\n",
    "import random\n",
    "\n",
    "with open('./data/POS/ctb6/train.json', encoding='utf-8') as f:\n",
    "    ori_list = f.read().split('\\n')\n",
    "    if ori_list[-1] == '':\n",
    "        ori_list = ori_list[:-1]\n",
    "\n",
    "random.shuffle(ori_list)\n",
    "\n",
    "\n",
    "train = ori_list[:2000]\n",
    "test = ori_list[2000:]\n",
    "# dev = ori_list[1238:]\n",
    "with open('./data/POS/ctb6/train_2000.json', encoding='utf-8', mode='a+') as f:\n",
    "    for item in train:\n",
    "        f.write(item + '\\n')\n",
    "\n",
    "with open('./data/POS/ctb6/else/else_2000.json', encoding='utf-8', mode='a+') as f:\n",
    "    for item in test:\n",
    "        f.write(item + '\\n')\n",
    "        \n",
    "# with open('data/ccks/dev.csv', encoding='utf-8', mode='a+') as f:\n",
    "#     for item in dev:\n",
    "#         f.write(item + '\\n')\n",
    "# %%\n"
   ]
  },
  {
   "cell_type": "code",
   "execution_count": 12,
   "metadata": {},
   "outputs": [
    {
     "name": "stderr",
     "output_type": "stream",
     "text": [
      "250it [00:00, 18832.86it/s]\n"
     ]
    }
   ],
   "source": [
    "# json转conll\n",
    "import json\n",
    "from tqdm import tqdm\n",
    "filename = \"./data/POS/ctb6/train_250.json\"\n",
    "sum = 0\n",
    "sentences = []\n",
    "\n",
    "with open(\"./data/POS/ctb6/train_250.txt\", \"w\", encoding=\"utf-8\") as out:\n",
    "    with open(filename, \"r\", encoding=\"utf-8\") as f:\n",
    "        for line in tqdm(f):\n",
    "            data = json.loads(line)\n",
    "            text = data[\"text\"]\n",
    "            label = data[\"label\"]\n",
    "            for i in range(len(text)):\n",
    "                out.write(text[i] + \"\t\" + label[i] + \"\\n\")\n",
    "            out.write('\\n')\n"
   ]
  },
  {
   "cell_type": "code",
   "execution_count": 5,
   "metadata": {},
   "outputs": [],
   "source": [
    "# %%\n",
    "import random\n",
    "\n",
    "with open('./data/resume/train.json', encoding='utf-8') as f:\n",
    "    ori_list = f.read().split('\\n')\n",
    "    if ori_list[-1] == '':\n",
    "        ori_list = ori_list[:-1]\n",
    "\n",
    "random.shuffle(ori_list)\n",
    "\n",
    "\n",
    "train = ori_list[:750]\n",
    "test = ori_list[750:]\n",
    "# dev = ori_list[1238:]\n",
    "with open('./data/resume/train_750_2.json', encoding='utf-8', mode='a+') as f:\n",
    "    for item in train:\n",
    "        f.write(item + '\\n')\n",
    "\n",
    "with open('./data/resume/else/else_750_2.json', encoding='utf-8', mode='a+') as f:\n",
    "    for item in test:\n",
    "        f.write(item + '\\n')\n",
    "        \n",
    "# with open('data/ccks/dev.csv', encoding='utf-8', mode='a+') as f:\n",
    "#     for item in dev:\n",
    "#         f.write(item + '\\n')\n",
    "\n"
   ]
  }
 ],
 "metadata": {
  "kernelspec": {
   "display_name": "Python 3.7.11 ('NER')",
   "language": "python",
   "name": "python3"
  },
  "language_info": {
   "codemirror_mode": {
    "name": "ipython",
    "version": 3
   },
   "file_extension": ".py",
   "mimetype": "text/x-python",
   "name": "python",
   "nbconvert_exporter": "python",
   "pygments_lexer": "ipython3",
   "version": "3.7.11"
  },
  "orig_nbformat": 4,
  "vscode": {
   "interpreter": {
    "hash": "c9392d1f0914889243d058bb73f0d89e61311fd6d751bbc8fa50e38d7d4ff811"
   }
  }
 },
 "nbformat": 4,
 "nbformat_minor": 2
}
