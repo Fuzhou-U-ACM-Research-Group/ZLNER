{
 "cells": [
  {
   "cell_type": "code",
   "execution_count": 1,
   "metadata": {},
   "outputs": [],
   "source": [
    "from tools.to_json import conll_to_json\n",
    "conll_to_json('./data/cehrNER/train.txt', './data/cehrNER/train.json', split_tag='\\n\\n')\n",
    "conll_to_json('./data/cehrNER/test.txt', './data/cehrNER/test.json', split_tag='\\n\\n')\n",
    "conll_to_json('./data/cehrNER/dev.txt', './data/cehrNER/dev.json', split_tag='\\n\\n')\n"
   ]
  },
  {
   "cell_type": "code",
   "execution_count": 1,
   "metadata": {},
   "outputs": [
    {
     "name": "stderr",
     "output_type": "stream",
     "text": [
      "142233it [00:08, 17543.64it/s]\n"
     ]
    }
   ],
   "source": [
    "# 转conll\n",
    "import json\n",
    "from tqdm import tqdm\n",
    "filename = \"./data/Medical/train.json\"\n",
    "sum = 0\n",
    "sentences = []\n",
    "\n",
    "with open(\"./data/Medical/train.txt\", \"w\", encoding=\"utf-8\") as out:\n",
    "    with open(filename, \"r\", encoding=\"utf-8\") as f:\n",
    "        for line in tqdm(f):\n",
    "            data = json.loads(line)\n",
    "            text = data[\"text\"]\n",
    "            label = data[\"label\"]\n",
    "            for i in range(len(text)):\n",
    "                out.write(text[i] + \"\t\" + label[i] + \"\\n\")\n",
    "            out.write('\\n')\n"
   ]
  },
  {
   "cell_type": "code",
   "execution_count": 2,
   "metadata": {},
   "outputs": [
    {
     "name": "stderr",
     "output_type": "stream",
     "text": [
      "35553it [00:02, 17435.65it/s]\n"
     ]
    }
   ],
   "source": [
    "# 转conll\n",
    "import json\n",
    "from tqdm import tqdm\n",
    "filename = \"./data/Medical/dev.json\"\n",
    "sum = 0\n",
    "sentences = []\n",
    "\n",
    "with open(\"./data/Medical/dev.txt\", \"w\", encoding=\"utf-8\") as out:\n",
    "    with open(filename, \"r\", encoding=\"utf-8\") as f:\n",
    "        for line in tqdm(f):\n",
    "            data = json.loads(line)\n",
    "            text = data[\"text\"]\n",
    "            label = data[\"label\"]\n",
    "            for i in range(len(text)):\n",
    "                out.write(text[i] + \"\t\" + label[i] + \"\\n\")\n",
    "            out.write('\\n')\n"
   ]
  }
 ],
 "metadata": {
  "kernelspec": {
   "display_name": "Python 3.7.11 ('NER')",
   "language": "python",
   "name": "python3"
  },
  "language_info": {
   "codemirror_mode": {
    "name": "ipython",
    "version": 3
   },
   "file_extension": ".py",
   "mimetype": "text/x-python",
   "name": "python",
   "nbconvert_exporter": "python",
   "pygments_lexer": "ipython3",
   "version": "3.7.11"
  },
  "orig_nbformat": 4,
  "vscode": {
   "interpreter": {
    "hash": "c9392d1f0914889243d058bb73f0d89e61311fd6d751bbc8fa50e38d7d4ff811"
   }
  }
 },
 "nbformat": 4,
 "nbformat_minor": 2
}
