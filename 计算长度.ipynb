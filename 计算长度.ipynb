{
 "cells": [
  {
   "cell_type": "code",
   "execution_count": null,
   "metadata": {},
   "outputs": [],
   "source": [
    "filename = \"./data/CDD/conll/train.txt\"\n",
    "sum = 0\n",
    "sentences = []\n",
    "\n",
    "with open(filename, \"r\", encoding=\"utf-8\") as f:\n",
    "        index = 0\n",
    "        label_count = 0\n",
    "        label_b = 0\n",
    "        for line in f:\n",
    "            if line == '\\n':\n",
    "                continue\n",
    "            else:\n",
    "                line = line.strip().split('\\t')\n",
    "                item, label = line[0],  line[1]\n",
    "            # print(item, label)\n",
    "            if label=='O':\n",
    "                index = index + 1    \n",
    "            else:\n",
    "                label_count = label_count + 1\n",
    "            if label =='B-CHECK':\n",
    "                label_b = label_b + 1\n",
    "print(index, label_b, label_count)\n",
    "print(label_count/label_b)"
   ]
  }
 ],
 "metadata": {
  "interpreter": {
   "hash": "c9392d1f0914889243d058bb73f0d89e61311fd6d751bbc8fa50e38d7d4ff811"
  },
  "kernelspec": {
   "display_name": "Python 3.7.11 ('NER')",
   "language": "python",
   "name": "python3"
  },
  "language_info": {
   "codemirror_mode": {
    "name": "ipython",
    "version": 3
   },
   "file_extension": ".py",
   "mimetype": "text/x-python",
   "name": "python",
   "nbconvert_exporter": "python",
   "pygments_lexer": "ipython3",
   "version": "3.7.11"
  },
  "orig_nbformat": 4
 },
 "nbformat": 4,
 "nbformat_minor": 2
}
