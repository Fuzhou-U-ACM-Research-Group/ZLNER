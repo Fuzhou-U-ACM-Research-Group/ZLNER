{
 "cells": [
  {
   "cell_type": "code",
   "execution_count": null,
   "metadata": {},
   "outputs": [],
   "source": [
    "import json\n",
    "filename = \"./data/sim/sc/sc_ccks_0.5 copy.json\"\n",
    "sum = 0\n",
    "sentences = []\n",
    "\n",
    "with open(\"data/sim/sc/sc_ccks_0.5_cut.json\", \"w\", encoding=\"utf-8\") as out:\n",
    "    with open(filename, \"r\", encoding=\"utf-8\") as f:\n",
    "        sum = 0\n",
    "        for line in f:\n",
    "            data = json.loads(line)\n",
    "            text = data[\"text\"]\n",
    "            label = data[\"label\"]\n",
    "            temp = 0\n",
    "            index = 0\n",
    "            \n",
    "            for item in text:\n",
    "                # print(item)\n",
    "                index = index + 1\n",
    "                if index > 450:\n",
    "                    if item == \"；\"  or item == \"。\":\n",
    "                        # print(index)\n",
    "                        out.write(f\"\"\"{json.dumps({\"text\":text[temp:index],\"label\":label[temp:index]},ensure_ascii=False)}\\n\"\"\")\n",
    "                        sum = sum + 1\n",
    "                        temp = index\n",
    "                    elif (index - temp) >500:\n",
    "                        # print(index)\n",
    "                        out.write(f\"\"\"{json.dumps({\"text\":text[temp:index],\"label\":label[temp:index]},ensure_ascii=False)}\\n\"\"\")\n",
    "                        sum = sum + 1\n",
    "                        temp = index\n",
    "\n",
    "            if temp == 0:\n",
    "                out.write(f\"\"\"{json.dumps({\"text\":text[:index],\"label\":label[:index]},ensure_ascii=False)}\\n\"\"\")\n",
    "                sum = sum + 1\n",
    "        print(sum)"
   ]
  },
  {
   "cell_type": "code",
   "execution_count": null,
   "metadata": {},
   "outputs": [],
   "source": [
    "import json\n",
    "filename = \"./data/sc/train_250.txt\"\n",
    "sum = 0\n",
    "sentences = []\n",
    "\n",
    "with open(\"./data/sc/train_250_cut.txt\", \"w\", encoding=\"utf-8\") as out:\n",
    "    with open(filename, \"r\", encoding=\"utf-8\") as f:\n",
    "        index = 0\n",
    "\n",
    "        for line in f:\n",
    "            if line == '\\n':\n",
    "                out.write(\"\\n\")\n",
    "                index = 0\n",
    "                continue\n",
    "            else:\n",
    "                line = line.strip().split('\\t')\n",
    "                item, label = line[0],  line[1]\n",
    "            # print(item, label)\n",
    "            if label=='O':\n",
    "                if item == \"。\" :\n",
    "                    print(index)\n",
    "                    out.write(\"\\n\")\n",
    "                    index=0\n",
    "                else:\n",
    "                    out.write(item + \"\t\" + label + \"\\n\")\n",
    "                    index = index + 1\n",
    "                if index >= 180:\n",
    "                    print(index)\n",
    "                    out.write(\"\\n\")\n",
    "                    index = 0\n",
    "            else:\n",
    "                out.write(item + \"\t\" + label + \"\\n\")\n",
    "                index = index + 1\n"
   ]
  },
  {
   "cell_type": "code",
   "execution_count": null,
   "metadata": {},
   "outputs": [],
   "source": [
    "import json\n",
    "from tqdm import tqdm\n",
    "filename = \"./data/ccks/cut/train_cut_1000.json\"\n",
    "sum = 0\n",
    "sentences = []\n",
    "\n",
    "with open(\"./data/ccks/cut/train_cut_1000.txt\", \"w\", encoding=\"utf-8\") as out:\n",
    "    with open(filename, \"r\", encoding=\"utf-8\") as f:\n",
    "        for line in tqdm(f):\n",
    "            data = json.loads(line)\n",
    "            text = data[\"text\"]\n",
    "            label = data[\"label\"]\n",
    "            for i in range(len(text)):\n",
    "                out.write(text[i] + \"\t\" + label[i] + \"\\n\")\n",
    "            out.write('\\n')\n",
    "\n"
   ]
  }
 ],
 "metadata": {
  "interpreter": {
   "hash": "c9392d1f0914889243d058bb73f0d89e61311fd6d751bbc8fa50e38d7d4ff811"
  },
  "kernelspec": {
   "display_name": "Python 3.7.11 ('NER')",
   "language": "python",
   "name": "python3"
  },
  "language_info": {
   "codemirror_mode": {
    "name": "ipython",
    "version": 3
   },
   "file_extension": ".py",
   "mimetype": "text/x-python",
   "name": "python",
   "nbconvert_exporter": "python",
   "pygments_lexer": "ipython3",
   "version": "3.7.11"
  },
  "orig_nbformat": 4
 },
 "nbformat": 4,
 "nbformat_minor": 2
}
